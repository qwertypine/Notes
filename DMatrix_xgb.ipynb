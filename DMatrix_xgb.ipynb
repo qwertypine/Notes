{
 "cells": [
  {
   "cell_type": "markdown",
   "metadata": {},
   "source": [
    "# Исследование DMatrix"
   ]
  },
  {
   "cell_type": "markdown",
   "metadata": {},
   "source": [
    "__Важная концептуальная информация про отличия интерфейса XGBoost и Sklearn:__  \n",
    "https://overcoder.net/q/572033/%D1%80%D0%B0%D0%B7%D0%BB%D0%B8%D1%87%D0%B8%D0%B5-%D0%BC%D0%B5%D0%B6%D0%B4%D1%83-%D0%BE%D1%80%D0%B8%D0%B3%D0%B8%D0%BD%D0%B0%D0%BB%D1%8C%D0%BD%D1%8B%D0%BC-xgboost-%D0%B8-sklearn-xgbclassifier  \n",
    "\n",
    "__Подбор гиперпараметров для повторяемости результата:__  \n",
    "https://github.com/dmlc/xgboost/issues/4637  \n",
    "\n",
    "__Examples:__  \n",
    "https://xgboost.readthedocs.io/en/latest/get_started.html  \n",
    "\n",
    "__Более глубокое объяснение разницы:__  \n",
    "https://overcoder.net/q/886228/%D0%B2-%D1%87%D0%B5%D0%BC-%D1%80%D0%B0%D0%B7%D0%BD%D0%B8%D1%86%D0%B0-%D0%BC%D0%B5%D0%B6%D0%B4%D1%83-xgbtrain-%D0%B8-xgbxgbregressor-%D0%B8%D0%BB%D0%B8-xgbxgbclassifier"
   ]
  },
  {
   "cell_type": "markdown",
   "metadata": {},
   "source": [
    "### Чтение данных"
   ]
  },
  {
   "cell_type": "code",
   "execution_count": 1,
   "metadata": {},
   "outputs": [],
   "source": [
    "fs = [...] # список признаков, конфиденциально"
   ]
  },
  {
   "cell_type": "code",
   "execution_count": 2,
   "metadata": {},
   "outputs": [],
   "source": [
    "import pandas as pd\n",
    "import numpy as np\n",
    "import matplotlib.pyplot as plt"
   ]
  },
  {
   "cell_type": "code",
   "execution_count": 3,
   "metadata": {},
   "outputs": [],
   "source": [
    "table = pd.read_csv('table_fe.csv', sep='`', encoding='cp1251', low_memory=False) \n",
    "atable = pd.read_csv('atable_fe.csv', sep='`', encoding='cp1251', low_memory=False)    "
   ]
  },
  {
   "cell_type": "code",
   "execution_count": 4,
   "metadata": {},
   "outputs": [],
   "source": [
    "table = table[fs]  \n",
    "atable = atable[fs]"
   ]
  },
  {
   "cell_type": "code",
   "execution_count": 5,
   "metadata": {},
   "outputs": [],
   "source": [
    "y_train = pd.read_csv('y_train.csv', sep='`', encoding='cp1251', low_memory=False) \n",
    "y_test = pd.read_csv('y_test.csv', sep='`', encoding='cp1251', low_memory=False)  "
   ]
  },
  {
   "cell_type": "markdown",
   "metadata": {},
   "source": [
    "## Настройка параметров"
   ]
  },
  {
   "cell_type": "markdown",
   "metadata": {},
   "source": [
    "### Baseline со SKlearn "
   ]
  },
  {
   "cell_type": "code",
   "execution_count": 6,
   "metadata": {},
   "outputs": [],
   "source": [
    "import xgboost as xgb\n",
    "from xgboost import XGBClassifier\n",
    "from sklearn import metrics\n",
    "from sklearn.metrics import confusion_matrix, roc_auc_score, roc_curve, auc, classification_report \n",
    "from sklearn.model_selection import GridSearchCV"
   ]
  },
  {
   "cell_type": "code",
   "execution_count": 7,
   "metadata": {},
   "outputs": [
    {
     "name": "stderr",
     "output_type": "stream",
     "text": [
      "C:\\Users\\ntrifonov\\Anaconda3\\lib\\site-packages\\sklearn\\utils\\validation.py:73: DataConversionWarning: A column-vector y was passed when a 1d array was expected. Please change the shape of y to (n_samples, ), for example using ravel().\n",
      "  return f(**kwargs)\n"
     ]
    },
    {
     "data": {
      "text/plain": [
       "XGBClassifier(base_score=0.5, booster='gbtree', colsample_bylevel=1,\n",
       "              colsample_bynode=1, colsample_bytree=1,\n",
       "              eval_metric=['auc', 'error'], gamma=0, gpu_id=-1,\n",
       "              importance_type='gain', interaction_constraints='',\n",
       "              learning_rate=0.1, max_delta_step=0, max_depth=1,\n",
       "              min_child_weight=1, missing=nan, monotone_constraints='()',\n",
       "              n_estimators=100, n_jobs=0, num_parallel_tree=1, random_state=0,\n",
       "              reg_alpha=0, reg_lambda=1, scale_pos_weight=1, subsample=1,\n",
       "              tree_method='exact', validate_parameters=1, verbosity=None)"
      ]
     },
     "execution_count": 7,
     "metadata": {},
     "output_type": "execute_result"
    }
   ],
   "source": [
    "clf = XGBClassifier(objective='binary:logistic',\n",
    "                    eval_metric=['auc', 'error'],\n",
    "                    max_depth=1,\n",
    "                    learning_rate=0.1)  \n",
    "\n",
    "clf.fit(table, y_train)"
   ]
  },
  {
   "cell_type": "code",
   "execution_count": 8,
   "metadata": {},
   "outputs": [
    {
     "data": {
      "text/plain": [
       "0.3418"
      ]
     },
     "execution_count": 8,
     "metadata": {},
     "output_type": "execute_result"
    }
   ],
   "source": [
    "pred_scr = clf.predict_proba(atable)[:, 1]\n",
    "fpr, tpr, thresholds = roc_curve(y_test, pred_scr)\n",
    "roc_auc = roc_auc_score(y_test, pred_scr)\n",
    "Gini = round(2*round(float(roc_auc),4)-1,4)\n",
    "Gini"
   ]
  },
  {
   "cell_type": "code",
   "execution_count": 9,
   "metadata": {},
   "outputs": [
    {
     "data": {
      "text/plain": [
       "0.3766"
      ]
     },
     "execution_count": 9,
     "metadata": {},
     "output_type": "execute_result"
    }
   ],
   "source": [
    "pred_scr_o = clf.predict_proba(table)[:, 1]\n",
    "fpr_o, tpr_o, thresholds_o = roc_curve(y_train, pred_scr_o)\n",
    "roc_auc_o = roc_auc_score(y_train, pred_scr_o)\n",
    "Gini_o = round(2*round(float(roc_auc_o),4)-1,4)\n",
    "Gini_o"
   ]
  },
  {
   "cell_type": "code",
   "execution_count": 10,
   "metadata": {},
   "outputs": [
    {
     "data": {
      "text/plain": [
       "[<matplotlib.lines.Line2D at 0x271f982c8b0>]"
      ]
     },
     "execution_count": 10,
     "metadata": {},
     "output_type": "execute_result"
    },
    {
     "data": {
      "image/png": "[encoded data removed]",
      "text/plain": [
       "<Figure size 432x288 with 1 Axes>"
      ]
     },
     "metadata": {
      "needs_background": "light"
     },
     "output_type": "display_data"
    }
   ],
   "source": [
    "plt.plot(fpr, tpr, label='ROC-кривая Gini = %0.4f, TEST' % (Gini), color='tab:blue')\n",
    "plt.plot(fpr_o, tpr_o, label='ROC-кривая Gini = %0.4f, TRAIN' % (Gini_o), color='tab:green')\n",
    "\n",
    "plt.legend(loc='lower right')\n",
    "plt.plot([0, 1], [0, 1] , linestyle='--')"
   ]
  },
  {
   "cell_type": "markdown",
   "metadata": {},
   "source": [
    "### Сравним с DMatrix"
   ]
  },
  {
   "cell_type": "markdown",
   "metadata": {},
   "source": [
    "#### Здесь долго мучался с результатом, он отличался на 20%, обратим внимание на num_boost_round"
   ]
  },
  {
   "cell_type": "code",
   "execution_count": 11,
   "metadata": {},
   "outputs": [],
   "source": [
    "import xgboost as xgb\n",
    "# read the data\n",
    "dtrain = xgb.DMatrix(table, label=y_train)\n",
    "dtest = xgb.DMatrix(atable, label=y_test)\n",
    "# specify parameters via map\n",
    "\"\"\"\n",
    "params = {\n",
    "    'objective':'binary:logistic',objective='binary:logistic',\n",
    "    'eval_metric':['auc', 'error'],\n",
    "    'max_depth': 1,\n",
    "    'learning_rate': 0.1\n",
    "    }\n",
    "\"\"\"\n",
    "# параметры по инструкции выше не подошли, видимо, библиотека новая\n",
    "# воспользуемсятпараметрами выше, в модели sklearn\n",
    "params = {  'objective':'binary:logistic',\n",
    "            'base_score':0.5,\n",
    "            'booster':'gbtree', \n",
    "            'colsample_bylevel':1,\n",
    "            'colsample_bynode':1,\n",
    "            'colsample_bytree':1,\n",
    "            'eval_metric':['auc', 'error'], \n",
    "            'gamma':0,\n",
    "            'gpu_id':-1,\n",
    "            #'importance_type':'gain',\n",
    "            'interaction_constraints':'',\n",
    "            'learning_rate':0.1,\n",
    "            'max_delta_step':0,\n",
    "            'max_depth':1,\n",
    "            'min_child_weight':1,\n",
    "            #'missing':nan,\n",
    "            'monotone_constraints':'()',\n",
    "            #'n_estimators':100,\n",
    "            'n_jobs':0,\n",
    "            'num_parallel_tree':1,\n",
    "            'random_state':0,\n",
    "            'reg_alpha':0,\n",
    "            'reg_lambda':1,\n",
    "            'scale_pos_weight':1,\n",
    "            'subsample':1,\n",
    "            'tree_method':'exact',\n",
    "            'validate_parameters':1,\n",
    "            'verbosity':None\n",
    "        }\n",
    "\n",
    "num_boost_round = 100 # !!! вот в чем дело было!!! - это аналог n_estimators в sklearn\n",
    "bst = xgb.train(params, dtrain, num_boost_round)\n",
    "\n",
    "# make prediction\n",
    "preds = bst.predict(dtest)"
   ]
  },
  {
   "cell_type": "code",
   "execution_count": 12,
   "metadata": {},
   "outputs": [
    {
     "data": {
      "text/plain": [
       "0.3418"
      ]
     },
     "execution_count": 12,
     "metadata": {},
     "output_type": "execute_result"
    }
   ],
   "source": [
    "#pred_scr_o = clf.predict_proba(table)[:, 1]\n",
    "pred_scr_o = preds\n",
    "fpr_o, tpr_o, thresholds_o = roc_curve(y_test, pred_scr_o)\n",
    "roc_auc_o = roc_auc_score(y_test, pred_scr_o)\n",
    "Gini_o = round(2*round(float(roc_auc_o),4)-1,4)\n",
    "Gini_o"
   ]
  },
  {
   "cell_type": "code",
   "execution_count": 13,
   "metadata": {},
   "outputs": [
    {
     "data": {
      "text/plain": [
       "0.3766"
      ]
     },
     "execution_count": 13,
     "metadata": {},
     "output_type": "execute_result"
    }
   ],
   "source": [
    "pred_scr_o = bst.predict(dtrain)\n",
    "fpr_o, tpr_o, thresholds_o = roc_curve(y_train, pred_scr_o)\n",
    "roc_auc_o = roc_auc_score(y_train, pred_scr_o)\n",
    "Gini_o = round(2*round(float(roc_auc_o),4)-1,4)\n",
    "Gini_o"
   ]
  },
  {
   "cell_type": "code",
   "execution_count": 14,
   "metadata": {},
   "outputs": [
    {
     "data": {
      "text/plain": [
       "[<matplotlib.lines.Line2D at 0x271f9fbc160>]"
      ]
     },
     "execution_count": 14,
     "metadata": {},
     "output_type": "execute_result"
    },
    {
     "data": {
      "image/png": "[encoded data removed]",
      "text/plain": [
       "<Figure size 432x288 with 1 Axes>"
      ]
     },
     "metadata": {
      "needs_background": "light"
     },
     "output_type": "display_data"
    }
   ],
   "source": [
    "plt.plot(fpr, tpr, label='ROC-кривая Gini = %0.4f, TEST' % (Gini), color='tab:blue')\n",
    "plt.plot(fpr_o, tpr_o, label='ROC-кривая Gini = %0.4f, TRAIN' % (Gini_o), color='tab:green')\n",
    "\n",
    "plt.legend(loc='lower right')\n",
    "plt.plot([0, 1], [0, 1] , linestyle='--')"
   ]
  },
  {
   "cell_type": "markdown",
   "metadata": {},
   "source": [
    "## Сравнение времени работы"
   ]
  },
  {
   "cell_type": "code",
   "execution_count": 15,
   "metadata": {},
   "outputs": [],
   "source": [
    "from time import process_time"
   ]
  },
  {
   "cell_type": "code",
   "execution_count": 16,
   "metadata": {},
   "outputs": [
    {
     "name": "stderr",
     "output_type": "stream",
     "text": [
      "C:\\Users\\ntrifonov\\Anaconda3\\lib\\site-packages\\sklearn\\utils\\validation.py:73: DataConversionWarning: A column-vector y was passed when a 1d array was expected. Please change the shape of y to (n_samples, ), for example using ravel().\n",
      "  return f(**kwargs)\n"
     ]
    }
   ],
   "source": [
    "time_mean_str_sk = 0 #sklearn\n",
    "time_std_str_sk = 0\n",
    "\n",
    "tmp = []\n",
    "for i in range(10): # число циклов\n",
    "    t = process_time()\n",
    "\n",
    "    for j in range(10): # по 10 итерациям объективнее обучать\n",
    "        \n",
    "        clf.fit(table, y_train)\n",
    "        \n",
    "    elapsed_time = process_time() - t\n",
    "    tmp.append(elapsed_time)\n",
    "        \n",
    "time_mean_str_sk = (np.mean(tmp)/10) # считаем на одну итерацию обучения\n",
    "time_std_str_sk = (np.std(tmp)/10) # считаем на одну итерацию обучения"
   ]
  },
  {
   "cell_type": "code",
   "execution_count": 17,
   "metadata": {},
   "outputs": [],
   "source": [
    "time_mean_str_xgb= 0 #xgb\n",
    "time_std_str_xgb = 0\n",
    "\n",
    "tmp = []\n",
    "for i in range(10): # число циклов\n",
    "    t = process_time()\n",
    "\n",
    "    for j in range(10): # по 10 итерациям объективнее обучать\n",
    "        \n",
    "        xgb.train(params, dtrain, num_boost_round)\n",
    "        \n",
    "    elapsed_time = process_time() - t\n",
    "    tmp.append(elapsed_time)\n",
    "        \n",
    "time_mean_str_xgb = (np.mean(tmp)/10) # считаем на одну итерацию обучения\n",
    "time_std_str_xgb = (np.std(tmp)/10) # считаем на одну итерацию обучения"
   ]
  },
  {
   "cell_type": "code",
   "execution_count": 18,
   "metadata": {},
   "outputs": [
    {
     "name": "stdout",
     "output_type": "stream",
     "text": [
      "Sklearn:  1.5557812500000001  +/-  0.02682817505091429\n",
      "XGB with DMatrix:  1.4421875  +/-  0.015609367179677721\n"
     ]
    }
   ],
   "source": [
    "print('Sklearn: ', time_mean_str_sk,' +/- ',  time_std_str_sk)\n",
    "print('XGB with DMatrix: ', time_mean_str_xgb,' +/- ',  time_std_str_xgb)"
   ]
  },
  {
   "cell_type": "code",
   "execution_count": 20,
   "metadata": {},
   "outputs": [
    {
     "data": {
      "text/plain": [
       "0.926986039971879"
      ]
     },
     "execution_count": 20,
     "metadata": {},
     "output_type": "execute_result"
    }
   ],
   "source": [
    "time_mean_str_xgb/time_mean_str_sk"
   ]
  },
  {
   "cell_type": "markdown",
   "metadata": {},
   "source": [
    "## Вывод"
   ]
  },
  {
   "cell_type": "markdown",
   "metadata": {},
   "source": [
    "Использование DMatrix дало выйгрыш во времени примерно в 8%.  \n",
    "При вычислительно затратных операциях, например кросс-валидации и переборе гиперпараметров это может быть весьма актуально."
   ]
  }
 ],
 "metadata": {
  "kernelspec": {
   "display_name": "Python 3",
   "language": "python",
   "name": "python3"
  },
  "language_info": {
   "codemirror_mode": {
    "name": "ipython",
    "version": 3
   },
   "file_extension": ".py",
   "mimetype": "text/x-python",
   "name": "python",
   "nbconvert_exporter": "python",
   "pygments_lexer": "ipython3",
   "version": "3.8.3"
  }
 },
 "nbformat": 4,
 "nbformat_minor": 4
}
